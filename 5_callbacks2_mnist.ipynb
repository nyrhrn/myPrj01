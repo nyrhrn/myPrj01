{
  "nbformat": 4,
  "nbformat_minor": 0,
  "metadata": {
    "colab": {
      "name": "5.callbacks2-mnist.ipynb",
      "provenance": [],
      "collapsed_sections": [],
      "mount_file_id": "1hzPxc0X4air57seXXXF58FOj3D0-uRyS",
      "authorship_tag": "ABX9TyNdpNyXMvhkzkB+V3PRNYnx",
      "include_colab_link": true
    },
    "kernelspec": {
      "name": "python3",
      "display_name": "Python 3"
    },
    "language_info": {
      "name": "python"
    }
  },
  "cells": [
    {
      "cell_type": "markdown",
      "metadata": {
        "id": "view-in-github",
        "colab_type": "text"
      },
      "source": [
        "<a href=\"https://colab.research.google.com/github/nyrhrn/myPrj01/blob/master/5_callbacks2_mnist.ipynb\" target=\"_parent\"><img src=\"https://colab.research.google.com/assets/colab-badge.svg\" alt=\"Open In Colab\"/></a>"
      ]
    },
    {
      "cell_type": "code",
      "metadata": {
        "id": "3c3yU2FdtgvF"
      },
      "source": [
        "import tensorflow as tf\n",
        "import keras \n",
        "from keras.models import Sequential\n",
        "from keras.layers import Dense , Dropout, Flatten\n",
        "import matplotlib.pyplot as plt"
      ],
      "execution_count": null,
      "outputs": []
    },
    {
      "cell_type": "code",
      "metadata": {
        "colab": {
          "base_uri": "https://localhost:8080/"
        },
        "id": "vHNbGcphtirr",
        "outputId": "80c95554-6550-49e8-f18e-59e7e16096d2"
      },
      "source": [
        "(x_train , y_train) , (x_test ,y_test)=tf.keras.datasets.fashion_mnist.load_data()"
      ],
      "execution_count": null,
      "outputs": [
        {
          "output_type": "stream",
          "text": [
            "Downloading data from https://storage.googleapis.com/tensorflow/tf-keras-datasets/train-labels-idx1-ubyte.gz\n",
            "32768/29515 [=================================] - 0s 0us/step\n",
            "Downloading data from https://storage.googleapis.com/tensorflow/tf-keras-datasets/train-images-idx3-ubyte.gz\n",
            "26427392/26421880 [==============================] - 0s 0us/step\n",
            "Downloading data from https://storage.googleapis.com/tensorflow/tf-keras-datasets/t10k-labels-idx1-ubyte.gz\n",
            "8192/5148 [===============================================] - 0s 0us/step\n",
            "Downloading data from https://storage.googleapis.com/tensorflow/tf-keras-datasets/t10k-images-idx3-ubyte.gz\n",
            "4423680/4422102 [==============================] - 0s 0us/step\n"
          ],
          "name": "stdout"
        }
      ]
    },
    {
      "cell_type": "code",
      "metadata": {
        "id": "drFmOmq-timc"
      },
      "source": [
        "x_train=x_train.astype(\"float32\")\n",
        "x_test=x_test.astype(\"float32\")\n",
        "x_train/=255\n",
        "x_test/=255"
      ],
      "execution_count": null,
      "outputs": []
    },
    {
      "cell_type": "code",
      "metadata": {
        "id": "IWmwhK-xuI3J"
      },
      "source": [
        "y_train=tf.keras.utils.to_categorical(y_train,num_classes=10)\n",
        "y_test=tf.keras.utils.to_categorical(y_test,num_classes=10)"
      ],
      "execution_count": null,
      "outputs": []
    },
    {
      "cell_type": "markdown",
      "metadata": {
        "id": "ivcpc3ZquiuU"
      },
      "source": [
        "Read learning rate from file"
      ]
    },
    {
      "cell_type": "code",
      "metadata": {
        "id": "6K7CIm3lugaj"
      },
      "source": [
        "def give_learning_rate(filepath,epoch):\n",
        "  with open(filepath , \"r\") as file:\n",
        "    for line in file.readlines():\n",
        "      line=line.split(\"#\")[0]\n",
        "      if line:\n",
        "        parameter=line.strip().split(\":\")\n",
        "        ep_file=int(parameter[0])\n",
        "        lr_file=float(parameter[1])\n",
        "        if ep_file <= epoch:\n",
        "          learning_rate=lr_file\n",
        "        else:\n",
        "          return learning_rate \n",
        "\n",
        "  return learning_rate     \n"
      ],
      "execution_count": null,
      "outputs": []
    },
    {
      "cell_type": "code",
      "metadata": {
        "colab": {
          "base_uri": "https://localhost:8080/"
        },
        "id": "Y2O2J2pzz2oi",
        "outputId": "3ec555d3-9c62-4bac-daf4-26626d8aaa27"
      },
      "source": [
        "give_learning_rate(\"/content/drive/MyDrive/learning rate.txt\",1)"
      ],
      "execution_count": null,
      "outputs": [
        {
          "output_type": "execute_result",
          "data": {
            "text/plain": [
              "0.001"
            ]
          },
          "metadata": {
            "tags": []
          },
          "execution_count": 6
        }
      ]
    },
    {
      "cell_type": "code",
      "metadata": {
        "id": "HcmCU9X61lmq"
      },
      "source": [
        "\n",
        "\n",
        "def get_sh(filepath):\n",
        "  def sh(epoch):\n",
        "    lr=give_learning_rate(filepath,epoch)\n",
        "    return lr\n",
        "  return sh  \n",
        "sche=get_sh(\"/content/drive/MyDrive/learning rate.txt\")\n",
        "# print(sche(10))\n",
        "learning_rate_scheduler=tf.keras.callbacks.LearningRateScheduler(sche,verbose=1)  \n"
      ],
      "execution_count": null,
      "outputs": []
    },
    {
      "cell_type": "code",
      "metadata": {
        "id": "F7w1PuzduIp6"
      },
      "source": [
        "model=Sequential()\n",
        "model.add(Flatten(input_shape=(28,28)))\n",
        "model.add(Dense(64,activation='relu'))\n",
        "model.add(Dropout(0.2))\n",
        "model.add(Dense(10,activation='softmax'))"
      ],
      "execution_count": null,
      "outputs": []
    },
    {
      "cell_type": "code",
      "metadata": {
        "id": "pZzGt905uaVB"
      },
      "source": [
        "optimizer=tf.keras.optimizers.Adam()\n",
        "model.compile(optimizer, loss='categorical_crossentropy',metrics=['accuracy'])"
      ],
      "execution_count": null,
      "outputs": []
    },
    {
      "cell_type": "code",
      "metadata": {
        "colab": {
          "base_uri": "https://localhost:8080/"
        },
        "id": "uq-6h7mXucrh",
        "outputId": "565dc892-921d-4bec-c1eb-c68f13bcf5ea"
      },
      "source": [
        "model.fit(x_train,y_train,batch_size=10, epochs=10, validation_data=(x_test,y_test),callbacks=[learning_rate_scheduler])"
      ],
      "execution_count": null,
      "outputs": [
        {
          "output_type": "stream",
          "text": [
            "Epoch 1/10\n",
            "\n",
            "Epoch 00001: LearningRateScheduler reducing learning rate to 0.001.\n",
            "6000/6000 [==============================] - 27s 2ms/step - loss: 0.6954 - accuracy: 0.7554 - val_loss: 0.4493 - val_accuracy: 0.8364\n",
            "Epoch 2/10\n",
            "\n",
            "Epoch 00002: LearningRateScheduler reducing learning rate to 0.001.\n",
            "6000/6000 [==============================] - 11s 2ms/step - loss: 0.4301 - accuracy: 0.8455 - val_loss: 0.4038 - val_accuracy: 0.8545\n",
            "Epoch 3/10\n",
            "\n",
            "Epoch 00003: LearningRateScheduler reducing learning rate to 0.0001.\n",
            "6000/6000 [==============================] - 11s 2ms/step - loss: 0.3717 - accuracy: 0.8638 - val_loss: 0.3742 - val_accuracy: 0.8655\n",
            "Epoch 4/10\n",
            "\n",
            "Epoch 00004: LearningRateScheduler reducing learning rate to 0.0001.\n",
            "6000/6000 [==============================] - 11s 2ms/step - loss: 0.3499 - accuracy: 0.8719 - val_loss: 0.3711 - val_accuracy: 0.8676\n",
            "Epoch 5/10\n",
            "\n",
            "Epoch 00005: LearningRateScheduler reducing learning rate to 0.0001.\n",
            "6000/6000 [==============================] - 11s 2ms/step - loss: 0.3498 - accuracy: 0.8715 - val_loss: 0.3684 - val_accuracy: 0.8670\n",
            "Epoch 6/10\n",
            "\n",
            "Epoch 00006: LearningRateScheduler reducing learning rate to 0.0001.\n",
            "6000/6000 [==============================] - 11s 2ms/step - loss: 0.3442 - accuracy: 0.8752 - val_loss: 0.3632 - val_accuracy: 0.8683\n",
            "Epoch 7/10\n",
            "\n",
            "Epoch 00007: LearningRateScheduler reducing learning rate to 1e-05.\n",
            "6000/6000 [==============================] - 11s 2ms/step - loss: 0.3356 - accuracy: 0.8774 - val_loss: 0.3620 - val_accuracy: 0.8694\n",
            "Epoch 8/10\n",
            "\n",
            "Epoch 00008: LearningRateScheduler reducing learning rate to 1e-05.\n",
            "6000/6000 [==============================] - 11s 2ms/step - loss: 0.3347 - accuracy: 0.8780 - val_loss: 0.3613 - val_accuracy: 0.8702\n",
            "Epoch 9/10\n",
            "\n",
            "Epoch 00009: LearningRateScheduler reducing learning rate to 1e-05.\n",
            "6000/6000 [==============================] - 11s 2ms/step - loss: 0.3328 - accuracy: 0.8772 - val_loss: 0.3609 - val_accuracy: 0.8696\n",
            "Epoch 10/10\n",
            "\n",
            "Epoch 00010: LearningRateScheduler reducing learning rate to 1e-05.\n",
            "6000/6000 [==============================] - 11s 2ms/step - loss: 0.3313 - accuracy: 0.8795 - val_loss: 0.3605 - val_accuracy: 0.8698\n"
          ],
          "name": "stdout"
        },
        {
          "output_type": "execute_result",
          "data": {
            "text/plain": [
              "<keras.callbacks.History at 0x7f2bfd1758d0>"
            ]
          },
          "metadata": {
            "tags": []
          },
          "execution_count": 31
        }
      ]
    },
    {
      "cell_type": "code",
      "metadata": {
        "id": "AkvxIMmxtihC"
      },
      "source": [
        ""
      ],
      "execution_count": null,
      "outputs": []
    },
    {
      "cell_type": "markdown",
      "metadata": {
        "id": "UKiSob4-0Gdb"
      },
      "source": [
        "exercise"
      ]
    },
    {
      "cell_type": "code",
      "metadata": {
        "colab": {
          "base_uri": "https://localhost:8080/"
        },
        "id": "hq6-vRw80a8m",
        "outputId": "2095a313-c64f-46e8-9ce0-4fb60483102c"
      },
      "source": [
        "with open( \"/content/drive/MyDrive/learning rate.txt\", 'r') as f:\n",
        "  for line in f.readlines():\n",
        "    line= line.split ('#',1)\n",
        "    print(line)"
      ],
      "execution_count": null,
      "outputs": [
        {
          "output_type": "stream",
          "text": [
            "['', 'Learning rate schedule\\n']\n",
            "['', ' Maps an epoch number to a learning rate\\n']\n",
            "['0:   0.001\\n']\n",
            "['2:   0.0001\\n']\n",
            "['6:   0.00001']\n"
          ],
          "name": "stdout"
        }
      ]
    },
    {
      "cell_type": "code",
      "metadata": {
        "colab": {
          "base_uri": "https://localhost:8080/"
        },
        "id": "bn6mSGMZ0haK",
        "outputId": "7b7134c0-9da1-4ae3-bf4c-eb6ddb0b3866"
      },
      "source": [
        "text=\"# hello : word\"\n",
        "print(text.split(\"#\"))\n",
        "print(text.split(\"#\")[1])\n",
        "print(text.split(\" \",3)[1])"
      ],
      "execution_count": null,
      "outputs": [
        {
          "output_type": "stream",
          "text": [
            "['', ' hello : word']\n",
            " hello : word\n",
            "hello\n"
          ],
          "name": "stdout"
        }
      ]
    },
    {
      "cell_type": "code",
      "metadata": {
        "colab": {
          "base_uri": "https://localhost:8080/"
        },
        "id": "ARdVJhog0nfq",
        "outputId": "c9cd533e-7f9d-4cc9-8811-ab7fe3857eab"
      },
      "source": [
        "text=text.split(\"#\")[1]\n",
        "par=text.strip().split(':')\n",
        "par\n",
        "print(text.strip())"
      ],
      "execution_count": null,
      "outputs": [
        {
          "output_type": "stream",
          "text": [
            "hello : word\n"
          ],
          "name": "stdout"
        }
      ]
    },
    {
      "cell_type": "code",
      "metadata": {
        "id": "_wLBkVes1GoM",
        "colab": {
          "base_uri": "https://localhost:8080/"
        },
        "outputId": "ab02787b-69b9-4fd4-b615-4576574d522a"
      },
      "source": [
        "url = 'www.example.com/'\n",
        "url.strip('w./')\n",
        "print(url.strip('.example./'))"
      ],
      "execution_count": null,
      "outputs": [
        {
          "output_type": "stream",
          "text": [
            "www.example.co\n"
          ],
          "name": "stdout"
        }
      ]
    },
    {
      "cell_type": "code",
      "metadata": {
        "colab": {
          "base_uri": "https://localhost:8080/"
        },
        "id": "uaC5O6Jd0qW6",
        "outputId": "f6a6288e-56dd-496a-b763-c21a890495f9"
      },
      "source": [
        "url = '22:25:23'\n",
        "print(url.strip('23/'))\n",
        "a=url.strip('22/')\n",
        "type(a)\n",
        "# print(url.strip().split(':'))"
      ],
      "execution_count": null,
      "outputs": [
        {
          "output_type": "stream",
          "text": [
            ":25:\n"
          ],
          "name": "stdout"
        },
        {
          "output_type": "execute_result",
          "data": {
            "text/plain": [
              "str"
            ]
          },
          "metadata": {
            "tags": []
          },
          "execution_count": 4
        }
      ]
    },
    {
      "cell_type": "code",
      "metadata": {
        "colab": {
          "base_uri": "https://localhost:8080/"
        },
        "id": "RuPu2hny0vt0",
        "outputId": "96c1381a-a607-487f-d137-5163d0f052e7"
      },
      "source": [
        "string = \"freeCodeCamp fun man  two\"\n",
        "print(string.split(\" \",2))"
      ],
      "execution_count": null,
      "outputs": [
        {
          "output_type": "stream",
          "text": [
            "['freeCodeCamp', 'fun', 'man  two']\n"
          ],
          "name": "stdout"
        }
      ]
    },
    {
      "cell_type": "code",
      "metadata": {
        "id": "2XoSOx6f0y4c"
      },
      "source": [
        "def get_lr_from_file(filename,epoch):\n",
        "  with open (filename,\"r\") as file:\n",
        "    for line in file.readlines():\n",
        "        line=line.split(\"#\",1)[0]\n",
        "        if line:\n",
        "          par=line.strip().split(\":\")\n",
        "          e=int(par[0])\n",
        "          lr=float(par[1])\n",
        "          if e<=epoch and lr>0:\n",
        "            learning_rate=lr\n",
        "          else:\n",
        "            return learning_rate\n",
        "    return learning_rate "
      ],
      "execution_count": null,
      "outputs": []
    },
    {
      "cell_type": "code",
      "metadata": {
        "colab": {
          "base_uri": "https://localhost:8080/"
        },
        "id": "6mMXMSMI02Tb",
        "outputId": "860afa4a-703e-4358-971b-1abafaa4168e"
      },
      "source": [
        "get_lr_from_file(\"/content/drive/MyDrive/learning rate.txt\",2)"
      ],
      "execution_count": null,
      "outputs": [
        {
          "output_type": "execute_result",
          "data": {
            "text/plain": [
              "0.0001"
            ]
          },
          "metadata": {
            "tags": []
          },
          "execution_count": 7
        }
      ]
    },
    {
      "cell_type": "markdown",
      "metadata": {
        "id": "jajuWntwnFFs"
      },
      "source": [
        "check point"
      ]
    },
    {
      "cell_type": "code",
      "metadata": {
        "id": "PR6fRzD18sDM"
      },
      "source": [
        "import tensorflow as tf\n",
        "from tensorflow import keras\n",
        "from tensorflow.keras.callbacks import ModelCheckpoint\n",
        "import os"
      ],
      "execution_count": null,
      "outputs": []
    },
    {
      "cell_type": "code",
      "metadata": {
        "id": "cJxU_Xph9en3"
      },
      "source": [
        "(x_train , y_train) , (x_test , y_test)=tf.keras.datasets.mnist.load_data()\n",
        "# x_train[100].shape #(28,28)\n",
        "x_train=x_train[:1000].reshape(-1,28*28)\n",
        "x_test=x_test[:1000].reshape(-1,28*28)/255\n",
        "# x_train[100].shape #(784,)\n",
        "y_test=y_test[:1000]\n",
        "y_train=y_train[:1000]\n"
      ],
      "execution_count": null,
      "outputs": []
    },
    {
      "cell_type": "code",
      "metadata": {
        "id": "W1ipgZieAy6N"
      },
      "source": [
        "def main_model():\n",
        "  model=keras.models.Sequential([\n",
        "                                  keras.layers.Dense(512,activation=\"relu\", input_shape=(784,)),\n",
        "                                  keras.layers.Dropout(0.2),\n",
        "                                  keras.layers.Dense(10,activation=\"softmax\")\n",
        "                                  ])\n",
        "  model.compile(optimizer=\"adam\", loss=\"sparse_categorical_crossentropy\",metrics=[\"accuracy\"])\n",
        "  return model\n",
        "model=main_model()"
      ],
      "execution_count": null,
      "outputs": []
    },
    {
      "cell_type": "code",
      "metadata": {
        "id": "tX8HHXYINvH1",
        "colab": {
          "base_uri": "https://localhost:8080/",
          "height": 214
        },
        "outputId": "4ceef64a-5cf5-480b-c1ce-9d8317ac1753"
      },
      "source": [
        "# checkpoint=\"train1/cp.ckpt\"\n",
        "checkpoint_dir=\"/content/drive/MyDrive/train1.ckpt/\"\n",
        "os.mkdir(checkpoint_dir)\n"
      ],
      "execution_count": null,
      "outputs": [
        {
          "output_type": "error",
          "ename": "FileExistsError",
          "evalue": "ignored",
          "traceback": [
            "\u001b[0;31m---------------------------------------------------------------------------\u001b[0m",
            "\u001b[0;31mFileExistsError\u001b[0m                           Traceback (most recent call last)",
            "\u001b[0;32m<ipython-input-28-5779401d1b90>\u001b[0m in \u001b[0;36m<module>\u001b[0;34m()\u001b[0m\n\u001b[1;32m      1\u001b[0m \u001b[0;31m# checkpoint=\"train1/cp.ckpt\"\u001b[0m\u001b[0;34m\u001b[0m\u001b[0;34m\u001b[0m\u001b[0;34m\u001b[0m\u001b[0m\n\u001b[1;32m      2\u001b[0m \u001b[0mcheckpoint_dir\u001b[0m\u001b[0;34m=\u001b[0m\u001b[0;34m\"/content/drive/MyDrive/train1.ckpt/\"\u001b[0m\u001b[0;34m\u001b[0m\u001b[0;34m\u001b[0m\u001b[0m\n\u001b[0;32m----> 3\u001b[0;31m \u001b[0mos\u001b[0m\u001b[0;34m.\u001b[0m\u001b[0mmkdir\u001b[0m\u001b[0;34m(\u001b[0m\u001b[0mcheckpoint_dir\u001b[0m\u001b[0;34m)\u001b[0m\u001b[0;34m\u001b[0m\u001b[0;34m\u001b[0m\u001b[0m\n\u001b[0m\u001b[1;32m      4\u001b[0m \u001b[0mmodel_checkpoint\u001b[0m\u001b[0;34m=\u001b[0m\u001b[0mModelCheckpoint\u001b[0m\u001b[0;34m(\u001b[0m\u001b[0mcheckpoint_dir\u001b[0m\u001b[0;34m,\u001b[0m\u001b[0msave_weights_only\u001b[0m\u001b[0;34m=\u001b[0m\u001b[0;32mTrue\u001b[0m\u001b[0;34m,\u001b[0m\u001b[0mverbose\u001b[0m\u001b[0;34m=\u001b[0m\u001b[0;36m1\u001b[0m\u001b[0;34m)\u001b[0m\u001b[0;34m\u001b[0m\u001b[0;34m\u001b[0m\u001b[0m\n",
            "\u001b[0;31mFileExistsError\u001b[0m: [Errno 17] File exists: '/content/drive/MyDrive/train1.ckpt/'"
          ]
        }
      ]
    },
    {
      "cell_type": "code",
      "metadata": {
        "id": "yHCB-sajHMAI"
      },
      "source": [
        "model_checkpoint=ModelCheckpoint(checkpoint_dir,save_weights_only=True,verbose=1)"
      ],
      "execution_count": null,
      "outputs": []
    },
    {
      "cell_type": "code",
      "metadata": {
        "id": "FAEC0knJD6Xp"
      },
      "source": [
        "model.fit(x_train,y_train,epochs=10,validation_data=(x_test,y_test),callbacks=[model_checkpoint])"
      ],
      "execution_count": null,
      "outputs": []
    },
    {
      "cell_type": "code",
      "metadata": {
        "id": "MeoZ8JE3Gyr4"
      },
      "source": [
        "del model"
      ],
      "execution_count": null,
      "outputs": []
    },
    {
      "cell_type": "code",
      "metadata": {
        "id": "H-OyaHbkKILY"
      },
      "source": [
        "model=main_model()"
      ],
      "execution_count": null,
      "outputs": []
    },
    {
      "cell_type": "code",
      "metadata": {
        "colab": {
          "base_uri": "https://localhost:8080/"
        },
        "id": "zyCFrlLDHU4I",
        "outputId": "fc7c57d4-5480-431d-a3b2-d34c5c6a960d"
      },
      "source": [
        "loss , accuracy=model.evaluate(x_test,y_test)\n",
        "print(\" loss is {:.2f} , accuracy: {:5.2f}% \" .format(loss,100*accuracy))"
      ],
      "execution_count": null,
      "outputs": [
        {
          "output_type": "stream",
          "text": [
            "32/32 [==============================] - 0s 2ms/step - loss: 2.3863 - accuracy: 0.0780\n",
            " loss is 2.39 , accuracy:  7.80% \n"
          ],
          "name": "stdout"
        }
      ]
    },
    {
      "cell_type": "code",
      "metadata": {
        "colab": {
          "base_uri": "https://localhost:8080/"
        },
        "id": "tJ6o--BrJ-px",
        "outputId": "18e6e537-7247-4565-8f1c-bd38b543912b"
      },
      "source": [
        "model.load_weights(checkpoint_dir)\n",
        "loss , accuracy=model.evaluate(x_test,y_test)\n",
        "print(\" loss is {:.2f} , accuracy: {:5.2f}% \" .format(loss,100*accuracy))"
      ],
      "execution_count": null,
      "outputs": [
        {
          "output_type": "stream",
          "text": [
            "32/32 [==============================] - 0s 2ms/step - loss: 1.5776 - accuracy: 0.8570\n",
            " loss is 1.58 , accuracy: 85.70% \n"
          ],
          "name": "stdout"
        }
      ]
    },
    {
      "cell_type": "code",
      "metadata": {
        "colab": {
          "base_uri": "https://localhost:8080/"
        },
        "id": "W88U8QqZoOoB",
        "outputId": "842118c9-fd49-4f70-de01-88791769ae0e"
      },
      "source": [
        "from google.colab import drive\n",
        "drive.mount('/content/gdrive')\n"
      ],
      "execution_count": null,
      "outputs": [
        {
          "output_type": "stream",
          "text": [
            "Mounted at /content/gdrive\n"
          ],
          "name": "stdout"
        }
      ]
    },
    {
      "cell_type": "markdown",
      "metadata": {
        "id": "_ZNCqlJWb3MG"
      },
      "source": [
        "address: format string"
      ]
    },
    {
      "cell_type": "code",
      "metadata": {
        "colab": {
          "base_uri": "https://localhost:8080/"
        },
        "id": "tkl3IHNub0kS",
        "outputId": "18e22b02-391c-49ab-f59f-89d78e83c73e"
      },
      "source": [
        "import tensorflow as tf\n",
        "from tensorflow import keras\n",
        "from tensorflow.keras.callbacks import ModelCheckpoint\n",
        "import os\n",
        "(x_train , y_train) , (x_test , y_test)=tf.keras.datasets.mnist.load_data()\n",
        "# x_train[100].shape #(28,28)\n",
        "x_train=x_train[:1000].reshape(-1,28*28)\n",
        "x_test=x_test[:1000].reshape(-1,28*28)/255\n",
        "# x_train[100].shape #(784,)\n",
        "y_test=y_test[:1000]\n",
        "y_train=y_train[:1000]"
      ],
      "execution_count": null,
      "outputs": [
        {
          "output_type": "stream",
          "text": [
            "Downloading data from https://storage.googleapis.com/tensorflow/tf-keras-datasets/mnist.npz\n",
            "11493376/11490434 [==============================] - 0s 0us/step\n"
          ],
          "name": "stdout"
        }
      ]
    },
    {
      "cell_type": "code",
      "metadata": {
        "id": "a5LLpyAHb0iI"
      },
      "source": [
        "def main_model():\n",
        "  model=keras.models.Sequential([\n",
        "                                  keras.layers.Dense(512,activation=\"relu\", input_shape=(784,)),\n",
        "                                  keras.layers.Dropout(0.2),\n",
        "                                  keras.layers.Dense(10,activation=\"softmax\")\n",
        "                                  ])\n",
        "  model.compile(optimizer=\"adam\", loss=\"sparse_categorical_crossentropy\",metrics=[\"accuracy\"])\n",
        "  return model\n",
        "model=main_model()"
      ],
      "execution_count": null,
      "outputs": []
    },
    {
      "cell_type": "code",
      "metadata": {
        "id": "RR-TCj2nb0gI"
      },
      "source": [
        "checkpoint_dir=\"/content/gdrive/MyDrive/folder2-{epoch:04d}.ckpt\"\n",
        "os.mkdir(checkpoint_dir)"
      ],
      "execution_count": null,
      "outputs": []
    },
    {
      "cell_type": "code",
      "metadata": {
        "colab": {
          "base_uri": "https://localhost:8080/"
        },
        "id": "Muyut3Q-b0b5",
        "outputId": "316065f3-1494-43c2-dbbd-5a5f23f09413"
      },
      "source": [
        "model_checkpoint=ModelCheckpoint(checkpoint_dir,verbose=1,save_weights_only=True,save_freq=\"epoch\",period=5)"
      ],
      "execution_count": null,
      "outputs": [
        {
          "output_type": "stream",
          "text": [
            "WARNING:tensorflow:`period` argument is deprecated. Please use `save_freq` to specify the frequency in number of batches seen.\n"
          ],
          "name": "stdout"
        }
      ]
    },
    {
      "cell_type": "code",
      "metadata": {
        "id": "VTTy3U4eiZvc"
      },
      "source": [
        "model.save_weights(checkpoint_dir.format(epoch=0))"
      ],
      "execution_count": null,
      "outputs": []
    },
    {
      "cell_type": "code",
      "metadata": {
        "id": "4rg6995kb0Y7",
        "colab": {
          "base_uri": "https://localhost:8080/"
        },
        "outputId": "2cb5efe7-014b-48ce-ad7c-fabc9bd62141"
      },
      "source": [
        "model.fit(x_train,y_train,epochs=30,validation_data=(x_test,y_test),callbacks=[model_checkpoint],verbose=2)"
      ],
      "execution_count": null,
      "outputs": [
        {
          "output_type": "stream",
          "text": [
            "Epoch 1/30\n",
            "32/32 - 0s - loss: 0.2472 - accuracy: 0.9910 - val_loss: 1.3668 - val_accuracy: 0.8640\n",
            "Epoch 2/30\n",
            "32/32 - 0s - loss: 0.4531 - accuracy: 0.9860 - val_loss: 1.3739 - val_accuracy: 0.8500\n",
            "Epoch 3/30\n",
            "32/32 - 0s - loss: 0.4552 - accuracy: 0.9900 - val_loss: 1.4054 - val_accuracy: 0.8200\n",
            "Epoch 4/30\n",
            "32/32 - 0s - loss: 0.3060 - accuracy: 0.9830 - val_loss: 1.3566 - val_accuracy: 0.8460\n",
            "Epoch 5/30\n",
            "32/32 - 0s - loss: 0.4904 - accuracy: 0.9880 - val_loss: 1.3351 - val_accuracy: 0.8630\n",
            "\n",
            "Epoch 00005: saving model to /content/gdrive/MyDrive/folder2-0005.ckpt\n",
            "Epoch 6/30\n",
            "32/32 - 0s - loss: 0.5311 - accuracy: 0.9890 - val_loss: 1.3641 - val_accuracy: 0.8670\n",
            "Epoch 7/30\n",
            "32/32 - 0s - loss: 0.1623 - accuracy: 0.9920 - val_loss: 1.3412 - val_accuracy: 0.8610\n",
            "Epoch 8/30\n",
            "32/32 - 0s - loss: 0.2124 - accuracy: 0.9900 - val_loss: 1.3243 - val_accuracy: 0.8700\n",
            "Epoch 9/30\n",
            "32/32 - 0s - loss: 0.0634 - accuracy: 0.9970 - val_loss: 1.3185 - val_accuracy: 0.8650\n",
            "Epoch 10/30\n",
            "32/32 - 0s - loss: 0.4447 - accuracy: 0.9890 - val_loss: 1.3340 - val_accuracy: 0.8450\n",
            "\n",
            "Epoch 00010: saving model to /content/gdrive/MyDrive/folder2-0010.ckpt\n",
            "Epoch 11/30\n",
            "32/32 - 0s - loss: 0.4548 - accuracy: 0.9880 - val_loss: 1.3117 - val_accuracy: 0.8460\n",
            "Epoch 12/30\n",
            "32/32 - 0s - loss: 0.5280 - accuracy: 0.9810 - val_loss: 1.3241 - val_accuracy: 0.8320\n",
            "Epoch 13/30\n",
            "32/32 - 0s - loss: 0.3566 - accuracy: 0.9850 - val_loss: 1.2864 - val_accuracy: 0.8720\n",
            "Epoch 14/30\n",
            "32/32 - 0s - loss: 0.3793 - accuracy: 0.9870 - val_loss: 1.2808 - val_accuracy: 0.8700\n",
            "Epoch 15/30\n",
            "32/32 - 0s - loss: 0.2435 - accuracy: 0.9940 - val_loss: 1.2731 - val_accuracy: 0.8720\n",
            "\n",
            "Epoch 00015: saving model to /content/gdrive/MyDrive/folder2-0015.ckpt\n",
            "Epoch 16/30\n",
            "32/32 - 0s - loss: 0.0239 - accuracy: 0.9980 - val_loss: 1.2769 - val_accuracy: 0.8570\n",
            "Epoch 17/30\n",
            "32/32 - 0s - loss: 0.1967 - accuracy: 0.9960 - val_loss: 1.2850 - val_accuracy: 0.8620\n",
            "Epoch 18/30\n",
            "32/32 - 0s - loss: 0.2503 - accuracy: 0.9940 - val_loss: 1.2905 - val_accuracy: 0.8430\n",
            "Epoch 19/30\n",
            "32/32 - 0s - loss: 0.5412 - accuracy: 0.9870 - val_loss: 1.2448 - val_accuracy: 0.8480\n",
            "Epoch 20/30\n",
            "32/32 - 0s - loss: 0.8833 - accuracy: 0.9850 - val_loss: 1.2500 - val_accuracy: 0.8400\n",
            "\n",
            "Epoch 00020: saving model to /content/gdrive/MyDrive/folder2-0020.ckpt\n",
            "Epoch 21/30\n",
            "32/32 - 0s - loss: 0.3778 - accuracy: 0.9820 - val_loss: 1.2464 - val_accuracy: 0.8310\n",
            "Epoch 22/30\n",
            "32/32 - 0s - loss: 0.4950 - accuracy: 0.9920 - val_loss: 1.2343 - val_accuracy: 0.8660\n",
            "Epoch 23/30\n",
            "32/32 - 0s - loss: 0.4260 - accuracy: 0.9880 - val_loss: 1.2815 - val_accuracy: 0.8380\n",
            "Epoch 24/30\n",
            "32/32 - 0s - loss: 0.5885 - accuracy: 0.9870 - val_loss: 1.2700 - val_accuracy: 0.8460\n",
            "Epoch 25/30\n",
            "32/32 - 0s - loss: 0.3824 - accuracy: 0.9890 - val_loss: 1.2390 - val_accuracy: 0.8730\n",
            "\n",
            "Epoch 00025: saving model to /content/gdrive/MyDrive/folder2-0025.ckpt\n",
            "Epoch 26/30\n",
            "32/32 - 0s - loss: 0.1399 - accuracy: 0.9960 - val_loss: 1.2232 - val_accuracy: 0.8770\n",
            "Epoch 27/30\n",
            "32/32 - 0s - loss: 0.1399 - accuracy: 0.9930 - val_loss: 1.2265 - val_accuracy: 0.8620\n",
            "Epoch 28/30\n",
            "32/32 - 0s - loss: 0.4265 - accuracy: 0.9890 - val_loss: 1.1902 - val_accuracy: 0.8760\n",
            "Epoch 29/30\n",
            "32/32 - 0s - loss: 0.1622 - accuracy: 0.9960 - val_loss: 1.1851 - val_accuracy: 0.8670\n",
            "Epoch 30/30\n",
            "32/32 - 0s - loss: 0.0981 - accuracy: 0.9940 - val_loss: 1.1523 - val_accuracy: 0.8790\n",
            "\n",
            "Epoch 00030: saving model to /content/gdrive/MyDrive/folder2-0030.ckpt\n"
          ],
          "name": "stdout"
        },
        {
          "output_type": "execute_result",
          "data": {
            "text/plain": [
              "<tensorflow.python.keras.callbacks.History at 0x7f6fc7198250>"
            ]
          },
          "metadata": {
            "tags": []
          },
          "execution_count": 16
        }
      ]
    },
    {
      "cell_type": "code",
      "metadata": {
        "id": "SBS1X6BRb0WS"
      },
      "source": [
        "last_ckp=tf.train.latest_checkpoint(checkpoint_dir)\n",
        "last_ckp"
      ],
      "execution_count": null,
      "outputs": []
    },
    {
      "cell_type": "code",
      "metadata": {
        "colab": {
          "base_uri": "https://localhost:8080/"
        },
        "id": "s7bNRh_Pb0Tc",
        "outputId": "78be5a70-777e-4cd9-d128-602f8cdea70f"
      },
      "source": [
        "print(last_ckp)"
      ],
      "execution_count": null,
      "outputs": [
        {
          "output_type": "stream",
          "text": [
            "None\n"
          ],
          "name": "stdout"
        }
      ]
    },
    {
      "cell_type": "code",
      "metadata": {
        "colab": {
          "base_uri": "https://localhost:8080/"
        },
        "id": "FIwp1Q4TpQq_",
        "outputId": "cc2824bc-5768-4d9d-e71f-fe23a2dfff42"
      },
      "source": [
        "!ls /content/gdrive/My Drive"
      ],
      "execution_count": null,
      "outputs": [
        {
          "output_type": "stream",
          "text": [
            "ls: cannot access '/content/gdrive/My': No such file or directory\n",
            "ls: cannot access 'Drive': No such file or directory\n"
          ],
          "name": "stdout"
        }
      ]
    },
    {
      "cell_type": "code",
      "metadata": {
        "colab": {
          "base_uri": "https://localhost:8080/"
        },
        "id": "g52CBTmqup7o",
        "outputId": "8a7e5f52-b557-4f17-8694-2e47251b98cf"
      },
      "source": [
        "!pip install pyyaml h5py"
      ],
      "execution_count": null,
      "outputs": [
        {
          "output_type": "stream",
          "text": [
            "Requirement already satisfied: pyyaml in /usr/local/lib/python3.7/dist-packages (3.13)\n",
            "Requirement already satisfied: h5py in /usr/local/lib/python3.7/dist-packages (3.1.0)\n",
            "Requirement already satisfied: numpy>=1.14.5 in /usr/local/lib/python3.7/dist-packages (from h5py) (1.19.5)\n",
            "Requirement already satisfied: cached-property in /usr/local/lib/python3.7/dist-packages (from h5py) (1.5.2)\n"
          ],
          "name": "stdout"
        }
      ]
    },
    {
      "cell_type": "code",
      "metadata": {
        "id": "iFQY3OGKb0P0"
      },
      "source": [
        "import tensorflow as tf\n",
        "from tensorflow.keras.callbacks import LearningRateScheduler , ModelCheckpoint\n",
        "import matplotlib.pyplot as plt\n",
        "import os"
      ],
      "execution_count": null,
      "outputs": []
    },
    {
      "cell_type": "code",
      "metadata": {
        "id": "FHyv41EwnONP"
      },
      "source": [
        "(x_train , y_train),(x_test , y_test)=tf.keras.datasets.fashion_mnist.load_data()\n",
        "x_train , x_test = x_train/255 , x_test/255"
      ],
      "execution_count": null,
      "outputs": []
    },
    {
      "cell_type": "code",
      "metadata": {
        "id": "NX1i_wLxnOIV"
      },
      "source": [
        "path_dir=\"/content/drive/MyDrive/train3\"\n",
        "os.makedirs(path_dir,exist_ok=True)\n",
        "file_path=\"/content/drive/MyDrive/train3/weights.{epoch:02d}-{val_loss:.2f}.hdf5\"\n",
        "check_point=ModelCheckpoint(file_path,monitor=\"val_loss\")"
      ],
      "execution_count": null,
      "outputs": []
    },
    {
      "cell_type": "code",
      "metadata": {
        "id": "wg9F3_7anOEt"
      },
      "source": [
        "def scheduler(epoch):\n",
        "  if epoch < 2:\n",
        "    return 0.001\n",
        "  elif epoch <6:\n",
        "     return 0.0001 \n",
        "  else:\n",
        "      return 0.00001\n",
        "learning_rate=LearningRateScheduler(scheduler,verbose=1)       "
      ],
      "execution_count": null,
      "outputs": []
    },
    {
      "cell_type": "code",
      "metadata": {
        "colab": {
          "base_uri": "https://localhost:8080/"
        },
        "id": "zni8FjHhnOA-",
        "outputId": "f5217213-fc75-4ee4-999f-ad0d6adc0f2e"
      },
      "source": [
        "model=tf.keras.models.Sequential([\n",
        "                                  tf.keras.layers.Flatten(input_shape=(28,28)),\n",
        "                                  tf.keras.layers.Dense(512,activation=\"relu\"),\n",
        "                                  tf.keras.layers.Dense(10,activation=\"softmax\")\n",
        "])\n",
        "model.compile(optimizer=\"adam\",loss=\"sparse_categorical_crossentropy\",\n",
        "              metrics=[\"accuracy\"])\n",
        "history=model.fit(x_train,y_train,epochs=3,validation_split=0.2,callbacks=[learning_rate,check_point])"
      ],
      "execution_count": null,
      "outputs": [
        {
          "output_type": "stream",
          "text": [
            "Epoch 1/3\n",
            "\n",
            "Epoch 00001: LearningRateScheduler reducing learning rate to 0.001.\n",
            "1500/1500 [==============================] - 8s 5ms/step - loss: 0.4987 - accuracy: 0.8240 - val_loss: 0.3758 - val_accuracy: 0.8642\n",
            "Epoch 2/3\n",
            "\n",
            "Epoch 00002: LearningRateScheduler reducing learning rate to 0.001.\n",
            "1500/1500 [==============================] - 7s 5ms/step - loss: 0.3652 - accuracy: 0.8675 - val_loss: 0.3602 - val_accuracy: 0.8683\n",
            "Epoch 3/3\n",
            "\n",
            "Epoch 00003: LearningRateScheduler reducing learning rate to 0.0001.\n",
            "1500/1500 [==============================] - 8s 5ms/step - loss: 0.2881 - accuracy: 0.8936 - val_loss: 0.3203 - val_accuracy: 0.8836\n"
          ],
          "name": "stdout"
        }
      ]
    },
    {
      "cell_type": "code",
      "metadata": {
        "id": "_wbnFv_znN9h",
        "colab": {
          "base_uri": "https://localhost:8080/"
        },
        "outputId": "a97ad5e0-9390-4912-b603-a28da7e14243"
      },
      "source": [
        "text=\"training_3/weights.03-0.32.hdtf5\"\n",
        "# text=int(text.split(\"/\")[1].split(\"-\")[0].split(\".\")[1])\n",
        "text=int(text.split(\"-\")[-2].split(\".\")[-1])\n",
        "text"
      ],
      "execution_count": null,
      "outputs": [
        {
          "output_type": "execute_result",
          "data": {
            "text/plain": [
              "3"
            ]
          },
          "metadata": {
            "tags": []
          },
          "execution_count": 14
        }
      ]
    }
  ]
}