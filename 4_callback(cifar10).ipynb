{
  "nbformat": 4,
  "nbformat_minor": 0,
  "metadata": {
    "colab": {
      "name": "4.callback(cifar10).ipynb",
      "provenance": [],
      "collapsed_sections": [],
      "authorship_tag": "ABX9TyPlbvy91OyjMDw/T1SynR/i",
      "include_colab_link": true
    },
    "kernelspec": {
      "name": "python3",
      "display_name": "Python 3"
    },
    "language_info": {
      "name": "python"
    }
  },
  "cells": [
    {
      "cell_type": "markdown",
      "metadata": {
        "id": "view-in-github",
        "colab_type": "text"
      },
      "source": [
        "<a href=\"https://colab.research.google.com/github/nyrhrn/myPrj01/blob/master/4_callback(cifar10).ipynb\" target=\"_parent\"><img src=\"https://colab.research.google.com/assets/colab-badge.svg\" alt=\"Open In Colab\"/></a>"
      ]
    },
    {
      "cell_type": "code",
      "metadata": {
        "id": "4Gxl-At2ik91"
      },
      "source": [
        "import tensorflow as tf\n",
        "import keras \n",
        "from tensorflow.keras.datasets import cifar10\n",
        "import matplotlib.pyplot as plt\n",
        "import datetime"
      ],
      "execution_count": null,
      "outputs": []
    },
    {
      "cell_type": "code",
      "metadata": {
        "colab": {
          "base_uri": "https://localhost:8080/"
        },
        "id": "Phl57qfdjhai",
        "outputId": "7c3e9cb1-effc-4999-9119-4c6ecfcb6271"
      },
      "source": [
        "#load data & normalize data\n",
        "(x_train , y_train) , (x_test , y_test) = cifar10.load_data()\n",
        "x_train , x_test = x_train / 255.0, x_test / 255.0\n"
      ],
      "execution_count": null,
      "outputs": [
        {
          "output_type": "stream",
          "text": [
            "Downloading data from https://www.cs.toronto.edu/~kriz/cifar-10-python.tar.gz\n",
            "170500096/170498071 [==============================] - 2s 0us/step\n"
          ],
          "name": "stdout"
        }
      ]
    },
    {
      "cell_type": "code",
      "metadata": {
        "id": "ctvzl5EBj8Yd"
      },
      "source": [
        "model=tf.keras.Sequential([\n",
        "                           tf.keras.layers.Convolution2D(32,(3,3),activation='relu',input_shape=(32,32,3)),   # parameter=(3*3*3+1)*32\n",
        "                           tf.keras.layers.MaxPooling2D(2,2),\n",
        "                           tf.keras.layers.Convolution2D(32,(3,3),activation='relu'),\n",
        "                           tf.keras.layers.MaxPooling2D(2,2),\n",
        "                           tf.keras.layers.Convolution2D(64,(3,3),activation='relu'),\n",
        "                           tf.keras.layers.MaxPooling2D(2,2),\n",
        "                           tf.keras.layers.Flatten(),\n",
        "                           tf.keras.layers.Dropout(0.5),\n",
        "                           tf.keras.layers.Dense(10,activation='softmax')          \n",
        "\n",
        "])"
      ],
      "execution_count": null,
      "outputs": []
    },
    {
      "cell_type": "code",
      "metadata": {
        "id": "QnqkOaAc-fxk"
      },
      "source": [
        "class mycallback(tf.keras.callbacks.Callback):\n",
        "  def on_train_begin(self, logs=None):\n",
        "    print(\"training is started\")\n",
        "  def on_epoch_begin(self,epoch,logs=None):\n",
        "    print(\"*\"*50)\n",
        "    print(\"epoch {} is started \".format(epoch))\n",
        "\n",
        "\n",
        "my_callback=mycallback()"
      ],
      "execution_count": null,
      "outputs": []
    },
    {
      "cell_type": "code",
      "metadata": {
        "colab": {
          "base_uri": "https://localhost:8080/"
        },
        "id": "zbpR2Yu3BoPj",
        "outputId": "fe4c3338-ea07-413c-c6bd-713da70b4a69"
      },
      "source": [
        "optimizer=tf.keras.optimizers.RMSprop(learning_rate=0.001, decay=1e-6)\n",
        "model.compile(optimizer,loss='sparse_categorical_crossentropy',metrics=['accuracy'])\n",
        "model.fit(x_train,y_train,epochs=25,batch_size=64,validation_data=(x_test,y_test),callbacks=[my_callback] ,verbose=1 )"
      ],
      "execution_count": null,
      "outputs": [
        {
          "output_type": "stream",
          "text": [
            "training is started\n",
            "Epoch 1/25\n",
            "**************************************************\n",
            "epoch 0 is started \n",
            "782/782 [==============================] - 58s 73ms/step - loss: 1.8242 - accuracy: 0.3323 - val_loss: 1.4891 - val_accuracy: 0.4604\n",
            "Epoch 2/25\n",
            "**************************************************\n",
            "epoch 1 is started \n",
            "782/782 [==============================] - 56s 72ms/step - loss: 1.5086 - accuracy: 0.4529 - val_loss: 1.4620 - val_accuracy: 0.4846\n",
            "Epoch 3/25\n",
            "**************************************************\n",
            "epoch 2 is started \n",
            "782/782 [==============================] - 56s 72ms/step - loss: 1.3752 - accuracy: 0.5079 - val_loss: 1.4165 - val_accuracy: 0.4782\n",
            "Epoch 4/25\n",
            "**************************************************\n",
            "epoch 3 is started \n",
            "782/782 [==============================] - 56s 71ms/step - loss: 1.2939 - accuracy: 0.5409 - val_loss: 1.1622 - val_accuracy: 0.5907\n",
            "Epoch 5/25\n",
            "**************************************************\n",
            "epoch 4 is started \n",
            "782/782 [==============================] - 56s 72ms/step - loss: 1.2306 - accuracy: 0.5630 - val_loss: 1.2076 - val_accuracy: 0.5694\n",
            "Epoch 6/25\n",
            "**************************************************\n",
            "epoch 5 is started \n",
            "782/782 [==============================] - 56s 71ms/step - loss: 1.1821 - accuracy: 0.5820 - val_loss: 1.2054 - val_accuracy: 0.5865\n",
            "Epoch 7/25\n",
            "**************************************************\n",
            "epoch 6 is started \n",
            "782/782 [==============================] - 56s 71ms/step - loss: 1.1402 - accuracy: 0.5982 - val_loss: 1.1032 - val_accuracy: 0.6162\n",
            "Epoch 8/25\n",
            "**************************************************\n",
            "epoch 7 is started \n",
            "782/782 [==============================] - 56s 71ms/step - loss: 1.1083 - accuracy: 0.6111 - val_loss: 1.0202 - val_accuracy: 0.6447\n",
            "Epoch 9/25\n",
            "**************************************************\n",
            "epoch 8 is started \n",
            "782/782 [==============================] - 56s 71ms/step - loss: 1.0812 - accuracy: 0.6223 - val_loss: 1.0827 - val_accuracy: 0.6225\n",
            "Epoch 10/25\n",
            "**************************************************\n",
            "epoch 9 is started \n",
            "782/782 [==============================] - 56s 71ms/step - loss: 1.0603 - accuracy: 0.6267 - val_loss: 1.0414 - val_accuracy: 0.6287\n",
            "Epoch 11/25\n",
            "**************************************************\n",
            "epoch 10 is started \n",
            "782/782 [==============================] - 55s 71ms/step - loss: 1.0385 - accuracy: 0.6345 - val_loss: 1.0424 - val_accuracy: 0.6344\n",
            "Epoch 12/25\n",
            "**************************************************\n",
            "epoch 11 is started \n",
            "782/782 [==============================] - 55s 71ms/step - loss: 1.0157 - accuracy: 0.6461 - val_loss: 1.0605 - val_accuracy: 0.6280\n",
            "Epoch 13/25\n",
            "**************************************************\n",
            "epoch 12 is started \n",
            "782/782 [==============================] - 55s 71ms/step - loss: 1.0045 - accuracy: 0.6472 - val_loss: 0.9322 - val_accuracy: 0.6763\n",
            "Epoch 14/25\n",
            "**************************************************\n",
            "epoch 13 is started \n",
            "782/782 [==============================] - 55s 71ms/step - loss: 0.9837 - accuracy: 0.6547 - val_loss: 1.0659 - val_accuracy: 0.6290\n",
            "Epoch 15/25\n",
            "**************************************************\n",
            "epoch 14 is started \n",
            "782/782 [==============================] - 55s 71ms/step - loss: 0.9763 - accuracy: 0.6580 - val_loss: 0.9469 - val_accuracy: 0.6642\n",
            "Epoch 16/25\n",
            "**************************************************\n",
            "epoch 15 is started \n",
            "782/782 [==============================] - 56s 71ms/step - loss: 0.9597 - accuracy: 0.6634 - val_loss: 0.9396 - val_accuracy: 0.6707\n",
            "Epoch 17/25\n",
            "**************************************************\n",
            "epoch 16 is started \n",
            "782/782 [==============================] - 56s 71ms/step - loss: 0.9534 - accuracy: 0.6662 - val_loss: 0.9325 - val_accuracy: 0.6819\n",
            "Epoch 18/25\n",
            "**************************************************\n",
            "epoch 17 is started \n",
            "782/782 [==============================] - 55s 71ms/step - loss: 0.9382 - accuracy: 0.6724 - val_loss: 1.2411 - val_accuracy: 0.5973\n",
            "Epoch 19/25\n",
            "**************************************************\n",
            "epoch 18 is started \n",
            "782/782 [==============================] - 55s 71ms/step - loss: 0.9336 - accuracy: 0.6751 - val_loss: 1.0117 - val_accuracy: 0.6545\n",
            "Epoch 20/25\n",
            "**************************************************\n",
            "epoch 19 is started \n",
            "782/782 [==============================] - 56s 72ms/step - loss: 0.9296 - accuracy: 0.6742 - val_loss: 0.9252 - val_accuracy: 0.6766\n",
            "Epoch 21/25\n",
            "**************************************************\n",
            "epoch 20 is started \n",
            "782/782 [==============================] - 56s 72ms/step - loss: 0.9207 - accuracy: 0.6782 - val_loss: 0.9066 - val_accuracy: 0.6817\n",
            "Epoch 22/25\n",
            "**************************************************\n",
            "epoch 21 is started \n",
            "782/782 [==============================] - 57s 73ms/step - loss: 0.9114 - accuracy: 0.6825 - val_loss: 0.9064 - val_accuracy: 0.6835\n",
            "Epoch 23/25\n",
            "**************************************************\n",
            "epoch 22 is started \n",
            "782/782 [==============================] - 69s 88ms/step - loss: 0.9083 - accuracy: 0.6809 - val_loss: 0.9179 - val_accuracy: 0.6796\n",
            "Epoch 24/25\n",
            "**************************************************\n",
            "epoch 23 is started \n",
            "782/782 [==============================] - 70s 90ms/step - loss: 0.8939 - accuracy: 0.6883 - val_loss: 0.9688 - val_accuracy: 0.6593\n",
            "Epoch 25/25\n",
            "**************************************************\n",
            "epoch 24 is started \n",
            "782/782 [==============================] - 62s 80ms/step - loss: 0.8975 - accuracy: 0.6882 - val_loss: 0.8849 - val_accuracy: 0.7034\n"
          ],
          "name": "stdout"
        },
        {
          "output_type": "execute_result",
          "data": {
            "text/plain": [
              "<tensorflow.python.keras.callbacks.History at 0x7fa910c23f10>"
            ]
          },
          "metadata": {
            "tags": []
          },
          "execution_count": 6
        }
      ]
    }
  ]
}