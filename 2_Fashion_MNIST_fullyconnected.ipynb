{
  "nbformat": 4,
  "nbformat_minor": 0,
  "metadata": {
    "colab": {
      "name": "2.Fashion MNIST_fullyconnected.ipynb",
      "provenance": [],
      "collapsed_sections": [],
      "authorship_tag": "ABX9TyO7khDKGKCI545bLb366TYU",
      "include_colab_link": true
    },
    "kernelspec": {
      "name": "python3",
      "display_name": "Python 3"
    },
    "language_info": {
      "name": "python"
    }
  },
  "cells": [
    {
      "cell_type": "markdown",
      "metadata": {
        "id": "view-in-github",
        "colab_type": "text"
      },
      "source": [
        "<a href=\"https://colab.research.google.com/github/nyrhrn/myPrj01/blob/master/2_Fashion_MNIST_fullyconnected.ipynb\" target=\"_parent\"><img src=\"https://colab.research.google.com/assets/colab-badge.svg\" alt=\"Open In Colab\"/></a>"
      ]
    },
    {
      "cell_type": "code",
      "metadata": {
        "id": "1CfTbypoQL3-"
      },
      "source": [
        "# Import useful libraries\n",
        "import tensorflow as tf\n",
        "import keras \n",
        "from keras.models import Sequential\n",
        "from keras.layers import Dense , Dropout, Flatten\n",
        "import matplotlib.pyplot as plt\n"
      ],
      "execution_count": null,
      "outputs": []
    },
    {
      "cell_type": "code",
      "metadata": {
        "id": "fHJVpJ4aQej_"
      },
      "source": [
        "# Load dataset\n",
        "(x_train , y_train) , (x_test ,y_test)=tf.keras.datasets.fashion_mnist.load_data()"
      ],
      "execution_count": null,
      "outputs": []
    },
    {
      "cell_type": "code",
      "metadata": {
        "id": "tDibGkq8tOBc"
      },
      "source": [
        "#Shape of train data\n",
        "x_train.shape"
      ],
      "execution_count": null,
      "outputs": []
    },
    {
      "cell_type": "code",
      "metadata": {
        "colab": {
          "base_uri": "https://localhost:8080/",
          "height": 265
        },
        "id": "99fHP-F3tecK",
        "outputId": "49705be0-7e50-4576-e8c2-6f0a82841224"
      },
      "source": [
        "# Show one of the images \n",
        "plt.imshow(x_train[601])\n",
        "plt.show()"
      ],
      "execution_count": null,
      "outputs": [
        {
          "output_type": "display_data",
          "data": {
            "image/png": "[encoded data removed]",
            "text/plain": [
              "<Figure size 432x288 with 1 Axes>"
            ]
          },
          "metadata": {
            "tags": [],
            "needs_background": "light"
          }
        }
      ]
    },
    {
      "cell_type": "code",
      "metadata": {
        "colab": {
          "base_uri": "https://localhost:8080/"
        },
        "id": "A_4Zl77WujUy",
        "outputId": "ed767804-6c93-4ef3-d4c1-4fab6cf08c92"
      },
      "source": [
        "# Number of class\n",
        "num_class=max(y_train) \n",
        "print(f\"number of class is : {num_class+1}\")"
      ],
      "execution_count": null,
      "outputs": [
        {
          "output_type": "stream",
          "text": [
            "number of class is : 10\n"
          ],
          "name": "stdout"
        }
      ]
    },
    {
      "cell_type": "code",
      "metadata": {
        "id": "lv0eWUKzvHvj"
      },
      "source": [
        "# Normalize our data values to the range of [0, 1]\n",
        "x_train=x_train.astype(\"float32\")\n",
        "x_test=x_test.astype(\"float32\")\n",
        "x_train/=255\n",
        "x_test/=255\n"
      ],
      "execution_count": null,
      "outputs": []
    },
    {
      "cell_type": "code",
      "metadata": {
        "id": "lIlBxywCe8z4"
      },
      "source": [
        "# Preprocess class labels\n",
        "y_train=tf.keras.utils.to_categorical(y_train,num_classes=10)\n",
        "y_test=tf.keras.utils.to_categorical(y_test,num_classes=10)"
      ],
      "execution_count": null,
      "outputs": []
    },
    {
      "cell_type": "code",
      "metadata": {
        "id": "SFWM5Lw6vIHS",
        "colab": {
          "base_uri": "https://localhost:8080/"
        },
        "outputId": "cebbe4fd-c71d-4bb4-951c-bb69c8165f87"
      },
      "source": [
        "# Define model architeture\n",
        "model=Sequential()\n",
        "model.add(Flatten(input_shape=(28,28))) # the image should be flattened\n",
        "model.add(Dense(64,activation='relu'))\n",
        "model.add(Dropout(0.2))\n",
        "model.add(Dense(10,activation='softmax'))\n",
        "model.summary()\n"
      ],
      "execution_count": null,
      "outputs": [
        {
          "output_type": "stream",
          "text": [
            "Model: \"sequential_5\"\n",
            "_________________________________________________________________\n",
            "Layer (type)                 Output Shape              Param #   \n",
            "=================================================================\n",
            "flatten_5 (Flatten)          (None, 784)               0         \n",
            "_________________________________________________________________\n",
            "dense_8 (Dense)              (None, 64)                50240     \n",
            "_________________________________________________________________\n",
            "dropout (Dropout)            (None, 64)                0         \n",
            "_________________________________________________________________\n",
            "dense_9 (Dense)              (None, 10)                650       \n",
            "=================================================================\n",
            "Total params: 50,890\n",
            "Trainable params: 50,890\n",
            "Non-trainable params: 0\n",
            "_________________________________________________________________\n"
          ],
          "name": "stdout"
        }
      ]
    },
    {
      "cell_type": "code",
      "metadata": {
        "id": "5rrrAFB0vIPQ"
      },
      "source": [
        "# Compile model\n",
        "optimizer=tf.keras.optimizers.Adam()\n",
        "model.compile(optimizer, loss='categorical_crossentropy',metrics=['accuracy'])"
      ],
      "execution_count": null,
      "outputs": []
    },
    {
      "cell_type": "code",
      "metadata": {
        "colab": {
          "base_uri": "https://localhost:8080/"
        },
        "id": "BP_-OrN_gNy5",
        "outputId": "683a3232-8fca-475f-b52b-ac3e28da08a7"
      },
      "source": [
        "# Fit model on training data\n",
        "model.fit(x_train,y_train,batch_size=10, epochs=10)"
      ],
      "execution_count": null,
      "outputs": [
        {
          "output_type": "stream",
          "text": [
            "Epoch 1/10\n",
            "6000/6000 [==============================] - 11s 2ms/step - loss: 0.7121 - accuracy: 0.7465\n",
            "Epoch 2/10\n",
            "6000/6000 [==============================] - 10s 2ms/step - loss: 0.4349 - accuracy: 0.8404\n",
            "Epoch 3/10\n",
            "6000/6000 [==============================] - 11s 2ms/step - loss: 0.3963 - accuracy: 0.8544\n",
            "Epoch 4/10\n",
            "6000/6000 [==============================] - 11s 2ms/step - loss: 0.3814 - accuracy: 0.8619\n",
            "Epoch 5/10\n",
            "6000/6000 [==============================] - 11s 2ms/step - loss: 0.3682 - accuracy: 0.8630\n",
            "Epoch 6/10\n",
            "6000/6000 [==============================] - 11s 2ms/step - loss: 0.3611 - accuracy: 0.8665\n",
            "Epoch 7/10\n",
            "6000/6000 [==============================] - 11s 2ms/step - loss: 0.3457 - accuracy: 0.8712\n",
            "Epoch 8/10\n",
            "6000/6000 [==============================] - 10s 2ms/step - loss: 0.3398 - accuracy: 0.8744\n",
            "Epoch 9/10\n",
            "6000/6000 [==============================] - 10s 2ms/step - loss: 0.3414 - accuracy: 0.8748\n",
            "Epoch 10/10\n",
            "6000/6000 [==============================] - 10s 2ms/step - loss: 0.3329 - accuracy: 0.8753\n"
          ],
          "name": "stdout"
        },
        {
          "output_type": "execute_result",
          "data": {
            "text/plain": [
              "<keras.callbacks.History at 0x7fc96bebde90>"
            ]
          },
          "metadata": {
            "tags": []
          },
          "execution_count": 30
        }
      ]
    },
    {
      "cell_type": "code",
      "metadata": {
        "id": "fRm3dlZLhMkv"
      },
      "source": [
        "# Different style of the same code\n",
        "# https://www.tensorflow.org/tutorials/keras/classification"
      ],
      "execution_count": null,
      "outputs": []
    },
    {
      "cell_type": "code",
      "metadata": {
        "id": "QSd80vAojyMz",
        "colab": {
          "base_uri": "https://localhost:8080/"
        },
        "outputId": "fafe1d36-c7e6-4e5f-9bc7-d73c2f8136f2"
      },
      "source": [
        "import tensorflow as tf\n",
        "import keras \n",
        "from keras.models import Sequential\n",
        "import matplotlib.pyplot as plt\n",
        "\n",
        "(x_train,y_train),(x_test,y_test)=tf.keras.datasets.fashion_mnist.load_data()\n",
        "\n",
        "x_train=x_train.astype('float32')\n",
        "x_test=x_test.astype('float32')\n",
        "x_train/=255\n",
        "x_test/=255\n",
        "\n"
      ],
      "execution_count": null,
      "outputs": [
        {
          "output_type": "stream",
          "text": [
            "Downloading data from https://storage.googleapis.com/tensorflow/tf-keras-datasets/train-labels-idx1-ubyte.gz\n",
            "32768/29515 [=================================] - 0s 0us/step\n",
            "Downloading data from https://storage.googleapis.com/tensorflow/tf-keras-datasets/train-images-idx3-ubyte.gz\n",
            "26427392/26421880 [==============================] - 0s 0us/step\n",
            "Downloading data from https://storage.googleapis.com/tensorflow/tf-keras-datasets/t10k-labels-idx1-ubyte.gz\n",
            "8192/5148 [===============================================] - 0s 0us/step\n",
            "Downloading data from https://storage.googleapis.com/tensorflow/tf-keras-datasets/t10k-images-idx3-ubyte.gz\n",
            "4423680/4422102 [==============================] - 0s 0us/step\n"
          ],
          "name": "stdout"
        }
      ]
    },
    {
      "cell_type": "code",
      "metadata": {
        "colab": {
          "base_uri": "https://localhost:8080/"
        },
        "id": "43sf9xeant5A",
        "outputId": "6380592a-e689-457d-dc40-646989f2c32a"
      },
      "source": [
        "model=tf.keras.Sequential([\n",
        "    tf.keras.layers.Flatten(input_shape=(28,28)),\n",
        "    tf.keras.layers.Dense(128,activation=\"relu\"),\n",
        "    tf.keras.layers.Dropout(0.2),\n",
        "    tf.keras.layers.Dense(10,activation=\"softmax\")\n",
        "])\n",
        "model.compile(optimizer='adam', loss='sparse_categorical_crossentropy',metrics=['accuracy'])\n",
        "# model.compile(optimizer='adam',\n",
        "#               loss=tf.keras.losses.SparseCategoricalCrossentropy(from_logits=True),\n",
        "#               metrics=['accuracy'])\n",
        "\n",
        "model.fit(x_train,y_train,batch_size=10, epochs=10)"
      ],
      "execution_count": null,
      "outputs": [
        {
          "output_type": "stream",
          "text": [
            "Epoch 1/10\n",
            "6000/6000 [==============================] - 9s 1ms/step - loss: 0.5165 - accuracy: 0.8150\n",
            "Epoch 2/10\n",
            "6000/6000 [==============================] - 9s 1ms/step - loss: 0.4029 - accuracy: 0.8521\n",
            "Epoch 3/10\n",
            "6000/6000 [==============================] - 9s 1ms/step - loss: 0.3725 - accuracy: 0.8634\n",
            "Epoch 4/10\n",
            "6000/6000 [==============================] - 9s 1ms/step - loss: 0.3507 - accuracy: 0.8703\n",
            "Epoch 5/10\n",
            "6000/6000 [==============================] - 9s 1ms/step - loss: 0.3399 - accuracy: 0.8744\n",
            "Epoch 6/10\n",
            "6000/6000 [==============================] - 9s 1ms/step - loss: 0.3270 - accuracy: 0.8802\n",
            "Epoch 7/10\n",
            "6000/6000 [==============================] - 9s 1ms/step - loss: 0.3199 - accuracy: 0.8809\n",
            "Epoch 8/10\n",
            "6000/6000 [==============================] - 9s 1ms/step - loss: 0.3121 - accuracy: 0.8852\n",
            "Epoch 9/10\n",
            "6000/6000 [==============================] - 9s 1ms/step - loss: 0.3028 - accuracy: 0.8863\n",
            "Epoch 10/10\n",
            "6000/6000 [==============================] - 9s 2ms/step - loss: 0.2982 - accuracy: 0.8883\n"
          ],
          "name": "stdout"
        },
        {
          "output_type": "execute_result",
          "data": {
            "text/plain": [
              "<tensorflow.python.keras.callbacks.History at 0x7f89bd665ed0>"
            ]
          },
          "metadata": {
            "tags": []
          },
          "execution_count": 17
        }
      ]
    },
    {
      "cell_type": "code",
      "metadata": {
        "id": "prwiwLkYn0Lr"
      },
      "source": [
        ""
      ],
      "execution_count": null,
      "outputs": []
    }
  ]
}