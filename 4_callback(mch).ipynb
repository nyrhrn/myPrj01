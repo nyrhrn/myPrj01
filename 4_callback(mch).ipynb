{
  "nbformat": 4,
  "nbformat_minor": 0,
  "metadata": {
    "colab": {
      "name": "4.callback(mch).ipynb",
      "provenance": [],
      "collapsed_sections": [],
      "mount_file_id": "1xb03mr4ItONmdRwfi1GQR9c73PMFrRnC",
      "authorship_tag": "ABX9TyNdQxXx+ab/GjtDsRQKwTrK",
      "include_colab_link": true
    },
    "kernelspec": {
      "name": "python3",
      "display_name": "Python 3"
    },
    "language_info": {
      "name": "python"
    }
  },
  "cells": [
    {
      "cell_type": "markdown",
      "metadata": {
        "id": "view-in-github",
        "colab_type": "text"
      },
      "source": [
        "<a href=\"https://colab.research.google.com/github/nyrhrn/myPrj01/blob/master/4_callback(mch).ipynb\" target=\"_parent\"><img src=\"https://colab.research.google.com/assets/colab-badge.svg\" alt=\"Open In Colab\"/></a>"
      ]
    },
    {
      "cell_type": "code",
      "metadata": {
        "id": "6I01nzYvL3mO"
      },
      "source": [
        "import tensorflow as tf\n",
        "from tensorflow import keras\n",
        "from tensorflow.keras.callbacks import ModelCheckpoint\n",
        "import os"
      ],
      "execution_count": null,
      "outputs": []
    },
    {
      "cell_type": "code",
      "metadata": {
        "colab": {
          "base_uri": "https://localhost:8080/"
        },
        "id": "3DjrCY9lMo5L",
        "outputId": "7111483e-c396-4a2b-fe5f-f1aa00914412"
      },
      "source": [
        "(x_train , y_train) , (x_test , y_test)=tf.keras.datasets.mnist.load_data()\n",
        "# x_train[100].shape #(28,28)\n",
        "x_train=x_train[:1000].reshape(-1,28*28)\n",
        "x_test=x_test[:1000].reshape(-1,28*28)/255\n",
        "# x_train[100].shape #(784,)\n",
        "y_test=y_test[:1000]\n",
        "y_train=y_train[:1000]"
      ],
      "execution_count": null,
      "outputs": [
        {
          "output_type": "stream",
          "text": [
            "Downloading data from https://storage.googleapis.com/tensorflow/tf-keras-datasets/mnist.npz\n",
            "11493376/11490434 [==============================] - 0s 0us/step\n"
          ],
          "name": "stdout"
        }
      ]
    },
    {
      "cell_type": "code",
      "metadata": {
        "id": "ozID5pq5MvWT"
      },
      "source": [
        "def main_model():\n",
        "  model=keras.models.Sequential([\n",
        "                                  keras.layers.Dense(512,activation=\"relu\", input_shape=(784,)),\n",
        "                                  keras.layers.Dropout(0.2),\n",
        "                                  keras.layers.Dense(10,activation=\"softmax\")\n",
        "                                  ])\n",
        "  model.compile(optimizer=\"adam\", loss=\"sparse_categorical_crossentropy\",metrics=[\"accuracy\"])\n",
        "  return model\n",
        "model=main_model()"
      ],
      "execution_count": null,
      "outputs": []
    },
    {
      "cell_type": "code",
      "metadata": {
        "id": "NgGQEgE-Mz4I"
      },
      "source": [
        "#Create folder\n",
        "checkpoint_dir=\"/content/drive/MyDrive/train1.ckpt/\"\n",
        "os.mkdir(checkpoint_dir)"
      ],
      "execution_count": null,
      "outputs": []
    },
    {
      "cell_type": "code",
      "metadata": {
        "id": "EsMNyGm-M3ZI"
      },
      "source": [
        "model_checkpoint=ModelCheckpoint(checkpoint_dir,save_weights_only=True,verbose=1)"
      ],
      "execution_count": null,
      "outputs": []
    },
    {
      "cell_type": "code",
      "metadata": {
        "colab": {
          "base_uri": "https://localhost:8080/"
        },
        "id": "7pPDv5bTM6xo",
        "outputId": "5c4e55a6-8742-42c1-e357-d8677cdb0755"
      },
      "source": [
        "model.fit(x_train,y_train,epochs=10,validation_data=(x_test,y_test),callbacks=[model_checkpoint])"
      ],
      "execution_count": null,
      "outputs": [
        {
          "output_type": "stream",
          "text": [
            "Epoch 1/10\n",
            "32/32 [==============================] - 1s 14ms/step - loss: 45.0862 - accuracy: 0.5920 - val_loss: 1.5673 - val_accuracy: 0.7590\n",
            "\n",
            "Epoch 00001: saving model to /content/drive/MyDrive/train1.ckpt/\n",
            "Epoch 2/10\n",
            "32/32 [==============================] - 0s 8ms/step - loss: 9.7257 - accuracy: 0.8650 - val_loss: 1.5500 - val_accuracy: 0.8030\n",
            "\n",
            "Epoch 00002: saving model to /content/drive/MyDrive/train1.ckpt/\n",
            "Epoch 3/10\n",
            "32/32 [==============================] - 0s 8ms/step - loss: 3.9739 - accuracy: 0.9240 - val_loss: 1.5786 - val_accuracy: 0.8510\n",
            "\n",
            "Epoch 00003: saving model to /content/drive/MyDrive/train1.ckpt/\n",
            "Epoch 4/10\n",
            "32/32 [==============================] - 0s 8ms/step - loss: 2.2997 - accuracy: 0.9440 - val_loss: 1.5882 - val_accuracy: 0.8520\n",
            "\n",
            "Epoch 00004: saving model to /content/drive/MyDrive/train1.ckpt/\n",
            "Epoch 5/10\n",
            "32/32 [==============================] - 0s 7ms/step - loss: 2.2602 - accuracy: 0.9460 - val_loss: 1.5934 - val_accuracy: 0.8310\n",
            "\n",
            "Epoch 00005: saving model to /content/drive/MyDrive/train1.ckpt/\n",
            "Epoch 6/10\n",
            "32/32 [==============================] - 0s 7ms/step - loss: 1.3439 - accuracy: 0.9610 - val_loss: 1.6057 - val_accuracy: 0.8390\n",
            "\n",
            "Epoch 00006: saving model to /content/drive/MyDrive/train1.ckpt/\n",
            "Epoch 7/10\n",
            "32/32 [==============================] - 0s 7ms/step - loss: 1.1239 - accuracy: 0.9620 - val_loss: 1.5970 - val_accuracy: 0.8360\n",
            "\n",
            "Epoch 00007: saving model to /content/drive/MyDrive/train1.ckpt/\n",
            "Epoch 8/10\n",
            "32/32 [==============================] - 0s 7ms/step - loss: 0.8632 - accuracy: 0.9700 - val_loss: 1.5735 - val_accuracy: 0.8560\n",
            "\n",
            "Epoch 00008: saving model to /content/drive/MyDrive/train1.ckpt/\n",
            "Epoch 9/10\n",
            "32/32 [==============================] - 0s 7ms/step - loss: 1.1595 - accuracy: 0.9690 - val_loss: 1.5407 - val_accuracy: 0.8660\n",
            "\n",
            "Epoch 00009: saving model to /content/drive/MyDrive/train1.ckpt/\n",
            "Epoch 10/10\n",
            "32/32 [==============================] - 0s 7ms/step - loss: 1.1417 - accuracy: 0.9690 - val_loss: 1.5616 - val_accuracy: 0.8450\n",
            "\n",
            "Epoch 00010: saving model to /content/drive/MyDrive/train1.ckpt/\n"
          ],
          "name": "stdout"
        },
        {
          "output_type": "execute_result",
          "data": {
            "text/plain": [
              "<tensorflow.python.keras.callbacks.History at 0x7f095301bcd0>"
            ]
          },
          "metadata": {
            "tags": []
          },
          "execution_count": 7
        }
      ]
    },
    {
      "cell_type": "code",
      "metadata": {
        "id": "n0Bqe_odNP_a"
      },
      "source": [
        "del model"
      ],
      "execution_count": null,
      "outputs": []
    },
    {
      "cell_type": "code",
      "metadata": {
        "id": "GcnDPjTvNRE0"
      },
      "source": [
        "model=main_model()"
      ],
      "execution_count": null,
      "outputs": []
    },
    {
      "cell_type": "code",
      "metadata": {
        "colab": {
          "base_uri": "https://localhost:8080/"
        },
        "id": "FFfCPhWENTib",
        "outputId": "ba8cf55d-e0e7-4435-dc3d-1037c0ccf915"
      },
      "source": [
        "loss , accuracy=model.evaluate(x_test,y_test)\n",
        "print(\" loss is {:.2f} , accuracy: {:5.2f}% \" .format(loss,100*accuracy))"
      ],
      "execution_count": null,
      "outputs": [
        {
          "output_type": "stream",
          "text": [
            "32/32 [==============================] - 0s 2ms/step - loss: 2.3086 - accuracy: 0.1490\n",
            " loss is 2.31 , accuracy: 14.90% \n"
          ],
          "name": "stdout"
        }
      ]
    },
    {
      "cell_type": "code",
      "metadata": {
        "colab": {
          "base_uri": "https://localhost:8080/"
        },
        "id": "A_xK9-HANWd0",
        "outputId": "f716dfb0-d002-4852-f36e-50636f6ad555"
      },
      "source": [
        "model.load_weights(checkpoint_dir)\n",
        "loss , accuracy=model.evaluate(x_test,y_test)\n",
        "print(\" loss is {:.2f} , accuracy: {:5.2f}% \" .format(loss,100*accuracy))"
      ],
      "execution_count": null,
      "outputs": [
        {
          "output_type": "stream",
          "text": [
            "32/32 [==============================] - 0s 2ms/step - loss: 1.5616 - accuracy: 0.8450\n",
            " loss is 1.56 , accuracy: 84.50% \n"
          ],
          "name": "stdout"
        }
      ]
    }
  ]
}