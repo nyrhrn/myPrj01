{
  "nbformat": 4,
  "nbformat_minor": 0,
  "metadata": {
    "colab": {
      "name": "3.cifar10 convolution",
      "provenance": [],
      "collapsed_sections": [],
      "authorship_tag": "ABX9TyMJECsqhvoRedlZNidBL0Lh",
      "include_colab_link": true
    },
    "kernelspec": {
      "name": "python3",
      "display_name": "Python 3"
    },
    "language_info": {
      "name": "python"
    }
  },
  "cells": [
    {
      "cell_type": "markdown",
      "metadata": {
        "id": "view-in-github",
        "colab_type": "text"
      },
      "source": [
        "<a href=\"https://colab.research.google.com/github/nyrhrn/myPrj01/blob/master/3_cifar10%20%26%20minist_convolution.ipynb\" target=\"_parent\"><img src=\"https://colab.research.google.com/assets/colab-badge.svg\" alt=\"Open In Colab\"/></a>"
      ]
    },
    {
      "cell_type": "code",
      "metadata": {
        "id": "KMtcLL1BMLQ3"
      },
      "source": [
        "# Import useful libraries\n",
        "import tensorflow as tf\n",
        "import keras\n",
        "from keras.datasets import cifar10\n",
        "import matplotlib.pyplot as plt\n",
        "% matplotlib inline"
      ],
      "execution_count": null,
      "outputs": []
    },
    {
      "cell_type": "code",
      "metadata": {
        "colab": {
          "base_uri": "https://localhost:8080/"
        },
        "id": "c_QHdeAdP1tz",
        "outputId": "ec638ca9-4f8c-4da8-8490-cf3c2eeeb88f"
      },
      "source": [
        "# Load dataset\n",
        "(x_train, y_train),(x_test,y_test)=cifar10.load_data()"
      ],
      "execution_count": null,
      "outputs": [
        {
          "output_type": "stream",
          "text": [
            "Downloading data from https://www.cs.toronto.edu/~kriz/cifar-10-python.tar.gz\n",
            "170500096/170498071 [==============================] - 4s 0us/step\n",
            "170508288/170498071 [==============================] - 4s 0us/step\n"
          ],
          "name": "stdout"
        }
      ]
    },
    {
      "cell_type": "code",
      "metadata": {
        "colab": {
          "base_uri": "https://localhost:8080/",
          "height": 300
        },
        "id": "O0aR4OQFQJBc",
        "outputId": "1f746ac1-0182-4653-efd0-c099248df6fa"
      },
      "source": [
        "# Show one of the images \n",
        "print(x_train[100].shape)\n",
        "plt.imshow(x_train[100])"
      ],
      "execution_count": null,
      "outputs": [
        {
          "output_type": "stream",
          "text": [
            "(32, 32, 3)\n"
          ],
          "name": "stdout"
        },
        {
          "output_type": "execute_result",
          "data": {
            "text/plain": [
              "<matplotlib.image.AxesImage at 0x7f0a87cac190>"
            ]
          },
          "metadata": {
            "tags": []
          },
          "execution_count": 6
        },
        {
          "output_type": "display_data",
          "data": {
            "image/png": "[encoded data removed]",
            "text/plain": [
              "<Figure size 432x288 with 1 Axes>"
            ]
          },
          "metadata": {
            "tags": [],
            "needs_background": "light"
          }
        }
      ]
    },
    {
      "cell_type": "code",
      "metadata": {
        "id": "_Dz8QtxDQJS8"
      },
      "source": [
        "# Normalize our data values to the range of [0, 1]\n",
        "x_train=x_train.astype('float32')\n",
        "x_test=x_test.astype('float32')\n",
        "x_train/=255\n",
        "x_test/=255\n",
        "# Preprocess class labels\n",
        "y_train=tf.keras.utils.to_categorical(y_train,num_classes=10)\n",
        "y_test=tf.keras.utils.to_categorical(y_test,num_classes=10)"
      ],
      "execution_count": null,
      "outputs": []
    },
    {
      "cell_type": "code",
      "metadata": {
        "colab": {
          "base_uri": "https://localhost:8080/"
        },
        "id": "NZ3kB9x6QeLc",
        "outputId": "83e477c6-ef4a-4a1c-d1b6-3aee401ff2a6"
      },
      "source": [
        "# Define model architeture\n",
        "model=tf.keras.Sequential([\n",
        "                           tf.keras.layers.Convolution2D(32,(3,3),activation='relu',input_shape=(32,32,3)),   \n",
        "                           tf.keras.layers.MaxPooling2D(2,2),\n",
        "                           tf.keras.layers.Convolution2D(32,(3,3),activation='relu'),\n",
        "                           tf.keras.layers.MaxPooling2D(2,2),\n",
        "                           tf.keras.layers.Convolution2D(64,(3,3),activation='relu'),\n",
        "                           tf.keras.layers.MaxPooling2D(2,2),\n",
        "                           tf.keras.layers.Flatten(),\n",
        "                           tf.keras.layers.Dropout(0.5),\n",
        "                           tf.keras.layers.Dense(10,activation='softmax')          \n",
        "\n",
        "])\n",
        "model.summary()"
      ],
      "execution_count": null,
      "outputs": [
        {
          "output_type": "stream",
          "text": [
            "Model: \"sequential\"\n",
            "_________________________________________________________________\n",
            "Layer (type)                 Output Shape              Param #   \n",
            "=================================================================\n",
            "conv2d_6 (Conv2D)            (None, 30, 30, 32)        896       \n",
            "_________________________________________________________________\n",
            "max_pooling2d_6 (MaxPooling2 (None, 15, 15, 32)        0         \n",
            "_________________________________________________________________\n",
            "conv2d_7 (Conv2D)            (None, 13, 13, 32)        9248      \n",
            "_________________________________________________________________\n",
            "max_pooling2d_7 (MaxPooling2 (None, 6, 6, 32)          0         \n",
            "_________________________________________________________________\n",
            "conv2d_8 (Conv2D)            (None, 4, 4, 64)          18496     \n",
            "_________________________________________________________________\n",
            "max_pooling2d_8 (MaxPooling2 (None, 2, 2, 64)          0         \n",
            "_________________________________________________________________\n",
            "flatten_1 (Flatten)          (None, 256)               0         \n",
            "_________________________________________________________________\n",
            "dropout_1 (Dropout)          (None, 256)               0         \n",
            "_________________________________________________________________\n",
            "dense (Dense)                (None, 10)                2570      \n",
            "=================================================================\n",
            "Total params: 31,210\n",
            "Trainable params: 31,210\n",
            "Non-trainable params: 0\n",
            "_________________________________________________________________\n"
          ],
          "name": "stdout"
        }
      ]
    },
    {
      "cell_type": "code",
      "metadata": {
        "id": "jIej9OOcQeO5"
      },
      "source": [
        "# Compile model\n",
        "optimizer=tf.keras.optimizers.RMSprop(learning_rate=0.001, decay=1e-6)\n",
        "model.compile(optimizer,loss='categorical_crossentropy',metrics=['accuracy'])\n"
      ],
      "execution_count": null,
      "outputs": []
    },
    {
      "cell_type": "code",
      "metadata": {
        "colab": {
          "base_uri": "https://localhost:8080/"
        },
        "id": "7RzA_8bBQeTH",
        "outputId": "8b0928bb-8a75-4740-ee37-5c18cf04a4be"
      },
      "source": [
        "# Fit model on training data\n",
        "model.fit(x_train,y_train,epochs=25,batch_size=64,validation_data=(x_test,y_test))"
      ],
      "execution_count": null,
      "outputs": [
        {
          "output_type": "stream",
          "text": [
            "Epoch 1/25\n",
            "782/782 [==============================] - 49s 62ms/step - loss: 1.8369 - accuracy: 0.3209 - val_loss: 1.5305 - val_accuracy: 0.4481\n",
            "Epoch 2/25\n",
            "782/782 [==============================] - 48s 62ms/step - loss: 1.5085 - accuracy: 0.4550 - val_loss: 1.4556 - val_accuracy: 0.4799\n",
            "Epoch 3/25\n",
            "782/782 [==============================] - 48s 62ms/step - loss: 1.3758 - accuracy: 0.5118 - val_loss: 1.2284 - val_accuracy: 0.5725\n",
            "Epoch 4/25\n",
            "782/782 [==============================] - 49s 62ms/step - loss: 1.2949 - accuracy: 0.5412 - val_loss: 1.1528 - val_accuracy: 0.5890\n",
            "Epoch 5/25\n",
            "782/782 [==============================] - 48s 62ms/step - loss: 1.2283 - accuracy: 0.5664 - val_loss: 1.1297 - val_accuracy: 0.6094\n",
            "Epoch 6/25\n",
            "782/782 [==============================] - 48s 62ms/step - loss: 1.1864 - accuracy: 0.5817 - val_loss: 1.1129 - val_accuracy: 0.6064\n",
            "Epoch 7/25\n",
            "782/782 [==============================] - 49s 62ms/step - loss: 1.1466 - accuracy: 0.5967 - val_loss: 1.1305 - val_accuracy: 0.6018\n",
            "Epoch 8/25\n",
            "782/782 [==============================] - 48s 62ms/step - loss: 1.1139 - accuracy: 0.6074 - val_loss: 1.1944 - val_accuracy: 0.5686\n",
            "Epoch 9/25\n",
            "782/782 [==============================] - 48s 62ms/step - loss: 1.0852 - accuracy: 0.6179 - val_loss: 0.9898 - val_accuracy: 0.6525\n",
            "Epoch 10/25\n",
            "782/782 [==============================] - 48s 62ms/step - loss: 1.0579 - accuracy: 0.6295 - val_loss: 1.1710 - val_accuracy: 0.5896\n",
            "Epoch 11/25\n",
            "782/782 [==============================] - 48s 62ms/step - loss: 1.0402 - accuracy: 0.6346 - val_loss: 0.9632 - val_accuracy: 0.6587\n",
            "Epoch 12/25\n",
            "782/782 [==============================] - 48s 62ms/step - loss: 1.0241 - accuracy: 0.6390 - val_loss: 1.0852 - val_accuracy: 0.6192\n",
            "Epoch 13/25\n",
            "782/782 [==============================] - 49s 62ms/step - loss: 1.0047 - accuracy: 0.6490 - val_loss: 0.9619 - val_accuracy: 0.6645\n",
            "Epoch 14/25\n",
            "782/782 [==============================] - 49s 62ms/step - loss: 0.9875 - accuracy: 0.6540 - val_loss: 0.9662 - val_accuracy: 0.6657\n",
            "Epoch 15/25\n",
            "782/782 [==============================] - 48s 62ms/step - loss: 0.9760 - accuracy: 0.6596 - val_loss: 0.9910 - val_accuracy: 0.6670\n",
            "Epoch 16/25\n",
            "782/782 [==============================] - 48s 62ms/step - loss: 0.9639 - accuracy: 0.6627 - val_loss: 0.9854 - val_accuracy: 0.6606\n",
            "Epoch 17/25\n",
            "782/782 [==============================] - 49s 62ms/step - loss: 0.9553 - accuracy: 0.6660 - val_loss: 0.9526 - val_accuracy: 0.6713\n",
            "Epoch 18/25\n",
            "782/782 [==============================] - 48s 62ms/step - loss: 0.9435 - accuracy: 0.6716 - val_loss: 0.9364 - val_accuracy: 0.6758\n",
            "Epoch 19/25\n",
            "782/782 [==============================] - 49s 62ms/step - loss: 0.9371 - accuracy: 0.6729 - val_loss: 0.9072 - val_accuracy: 0.6939\n",
            "Epoch 20/25\n",
            "782/782 [==============================] - 49s 62ms/step - loss: 0.9293 - accuracy: 0.6750 - val_loss: 0.9938 - val_accuracy: 0.6577\n",
            "Epoch 21/25\n",
            "782/782 [==============================] - 49s 62ms/step - loss: 0.9210 - accuracy: 0.6791 - val_loss: 0.9762 - val_accuracy: 0.6650\n",
            "Epoch 22/25\n",
            "782/782 [==============================] - 49s 63ms/step - loss: 0.9123 - accuracy: 0.6808 - val_loss: 0.9155 - val_accuracy: 0.6866\n",
            "Epoch 23/25\n",
            "782/782 [==============================] - 49s 63ms/step - loss: 0.9066 - accuracy: 0.6840 - val_loss: 0.9326 - val_accuracy: 0.6812\n",
            "Epoch 24/25\n",
            "782/782 [==============================] - 49s 62ms/step - loss: 0.9027 - accuracy: 0.6851 - val_loss: 0.9887 - val_accuracy: 0.6657\n",
            "Epoch 25/25\n",
            "782/782 [==============================] - 49s 62ms/step - loss: 0.8971 - accuracy: 0.6900 - val_loss: 0.9714 - val_accuracy: 0.6685\n"
          ],
          "name": "stdout"
        },
        {
          "output_type": "execute_result",
          "data": {
            "text/plain": [
              "<tensorflow.python.keras.callbacks.History at 0x7f0a8312e2d0>"
            ]
          },
          "metadata": {
            "tags": []
          },
          "execution_count": 14
        }
      ]
    },
    {
      "cell_type": "code",
      "metadata": {
        "id": "pn_xR-ETXnoh"
      },
      "source": [
        ""
      ],
      "execution_count": null,
      "outputs": []
    },
    {
      "cell_type": "markdown",
      "metadata": {
        "id": "_oHycB1pP_qV"
      },
      "source": [
        "mnist dataset"
      ]
    },
    {
      "cell_type": "code",
      "metadata": {
        "id": "qJ9IfM2tX62b"
      },
      "source": [
        "# Number of class\n",
        "import tensorflow as tf\n",
        "import keras\n",
        "import matplotlib.pyplot as plt\n",
        "% matplotlib inline\n",
        "\n",
        "(x_train,y_train),(x_test,y_test)=tf.keras.datasets.fashion_mnist.load_data()"
      ],
      "execution_count": null,
      "outputs": []
    },
    {
      "cell_type": "code",
      "metadata": {
        "colab": {
          "base_uri": "https://localhost:8080/",
          "height": 282
        },
        "id": "-aE8Nda2RK6V",
        "outputId": "ac18e9c2-edeb-4d2c-f99e-327572bcc729"
      },
      "source": [
        "# Normalize our data values to the range of [0, 1] and Preprocess class labels\n",
        "x_train=x_train.astype('float32')\n",
        "x_test=x_test.astype('float32')\n",
        "x_train/=255\n",
        "x_test/=255\n",
        "y_train=tf.keras.utils.to_categorical(y_train,num_classes=10)\n",
        "y_test=tf.keras.utils.to_categorical(y_test,num_classes=10)\n",
        "plt.imshow(x_train[10]) "
      ],
      "execution_count": null,
      "outputs": [
        {
          "output_type": "execute_result",
          "data": {
            "text/plain": [
              "<matplotlib.image.AxesImage at 0x7ffad9ca3b90>"
            ]
          },
          "metadata": {
            "tags": []
          },
          "execution_count": 58
        },
        {
          "output_type": "display_data",
          "data": {
            "image/png": "[encoded data removed]",
            "text/plain": [
              "<Figure size 432x288 with 1 Axes>"
            ]
          },
          "metadata": {
            "tags": [],
            "needs_background": "light"
          }
        }
      ]
    },
    {
      "cell_type": "code",
      "metadata": {
        "colab": {
          "base_uri": "https://localhost:8080/"
        },
        "id": "VJ75k0RrR2Vl",
        "outputId": "0cb1b9b3-6468-4de5-cdb5-eb067ef213e8"
      },
      "source": [
        "# Define model architeture\n",
        "x_train=x_train.reshape(-1,28,28,1)# Reshape (28,28)  to (28,28,1)\n",
        "x_test=x_test.reshape(-1,28,28,1)\n",
        "print(x_train[10].shape)\n"
      ],
      "execution_count": null,
      "outputs": [
        {
          "output_type": "stream",
          "text": [
            "(28, 28, 1)\n"
          ],
          "name": "stdout"
        }
      ]
    },
    {
      "cell_type": "code",
      "metadata": {
        "colab": {
          "base_uri": "https://localhost:8080/"
        },
        "id": "hfUCkgOHS27F",
        "outputId": "2adb9247-e96b-4cc1-d003-e4aa0f3e3677"
      },
      "source": [
        "model=tf.keras.Sequential([\n",
        "                           tf.keras.layers.Conv2D(32,(3,3),activation='relu',input_shape=(28,28,1)),\n",
        "                           tf.keras.layers.MaxPooling2D((2,2)),\n",
        "                           tf.keras.layers.Convolution2D(32,(3,3),activation='relu'),\n",
        "                           tf.keras.layers.MaxPooling2D(2,2),\n",
        "                           tf.keras.layers.Convolution2D(64,(3,3),activation='relu'),\n",
        "                           tf.keras.layers.MaxPooling2D(2,2),\n",
        "                           tf.keras.layers.Flatten(),\n",
        "                           tf.keras.layers.Dropout(0.5),\n",
        "                           tf.keras.layers.Dense(10,activation='softmax')                        \n",
        "])\n",
        "model.summary()"
      ],
      "execution_count": null,
      "outputs": [
        {
          "output_type": "stream",
          "text": [
            "Model: \"sequential_4\"\n",
            "_________________________________________________________________\n",
            "Layer (type)                 Output Shape              Param #   \n",
            "=================================================================\n",
            "conv2d_13 (Conv2D)           (None, 26, 26, 32)        320       \n",
            "_________________________________________________________________\n",
            "max_pooling2d_13 (MaxPooling (None, 13, 13, 32)        0         \n",
            "_________________________________________________________________\n",
            "conv2d_14 (Conv2D)           (None, 11, 11, 32)        9248      \n",
            "_________________________________________________________________\n",
            "max_pooling2d_14 (MaxPooling (None, 5, 5, 32)          0         \n",
            "_________________________________________________________________\n",
            "conv2d_15 (Conv2D)           (None, 3, 3, 64)          18496     \n",
            "_________________________________________________________________\n",
            "max_pooling2d_15 (MaxPooling (None, 1, 1, 64)          0         \n",
            "_________________________________________________________________\n",
            "flatten_4 (Flatten)          (None, 64)                0         \n",
            "_________________________________________________________________\n",
            "dropout_4 (Dropout)          (None, 64)                0         \n",
            "_________________________________________________________________\n",
            "dense_4 (Dense)              (None, 10)                650       \n",
            "=================================================================\n",
            "Total params: 28,714\n",
            "Trainable params: 28,714\n",
            "Non-trainable params: 0\n",
            "_________________________________________________________________\n"
          ],
          "name": "stdout"
        }
      ]
    },
    {
      "cell_type": "code",
      "metadata": {
        "colab": {
          "base_uri": "https://localhost:8080/"
        },
        "id": "pt7jdOtPUwuV",
        "outputId": "07dab80a-05c3-46a6-9f74-10fa6f8b0742"
      },
      "source": [
        "# Compile and Fit Model\n",
        "optimizer=tf.keras.optimizers.RMSprop(learning_rate=0.001, decay=1e-6)\n",
        "model.compile(optimizer,loss='categorical_crossentropy',metrics=['accuracy'])\n",
        "model.fit(x_train,y_train,batch_size=64 ,epochs=25 ,validation_data=(x_test,y_test))"
      ],
      "execution_count": null,
      "outputs": [
        {
          "output_type": "stream",
          "text": [
            "Epoch 1/25\n",
            "938/938 [==============================] - 45s 47ms/step - loss: 0.8593 - accuracy: 0.6918 - val_loss: 0.5797 - val_accuracy: 0.7890\n",
            "Epoch 2/25\n",
            "938/938 [==============================] - 44s 47ms/step - loss: 0.5982 - accuracy: 0.7870 - val_loss: 0.4952 - val_accuracy: 0.8196\n",
            "Epoch 3/25\n",
            "938/938 [==============================] - 44s 47ms/step - loss: 0.5319 - accuracy: 0.8126 - val_loss: 0.4477 - val_accuracy: 0.8327\n",
            "Epoch 4/25\n",
            "938/938 [==============================] - 44s 47ms/step - loss: 0.4911 - accuracy: 0.8266 - val_loss: 0.4224 - val_accuracy: 0.8468\n",
            "Epoch 5/25\n",
            "938/938 [==============================] - 43s 46ms/step - loss: 0.4659 - accuracy: 0.8361 - val_loss: 0.4006 - val_accuracy: 0.8566\n",
            "Epoch 6/25\n",
            "938/938 [==============================] - 43s 46ms/step - loss: 0.4478 - accuracy: 0.8424 - val_loss: 0.4061 - val_accuracy: 0.8502\n",
            "Epoch 7/25\n",
            "938/938 [==============================] - 43s 46ms/step - loss: 0.4293 - accuracy: 0.8493 - val_loss: 0.4095 - val_accuracy: 0.8580\n",
            "Epoch 8/25\n",
            "938/938 [==============================] - 44s 47ms/step - loss: 0.4251 - accuracy: 0.8512 - val_loss: 0.3947 - val_accuracy: 0.8625\n",
            "Epoch 9/25\n",
            "938/938 [==============================] - 43s 46ms/step - loss: 0.4171 - accuracy: 0.8552 - val_loss: 0.3878 - val_accuracy: 0.8643\n",
            "Epoch 10/25\n",
            "938/938 [==============================] - 43s 46ms/step - loss: 0.4147 - accuracy: 0.8590 - val_loss: 0.3763 - val_accuracy: 0.8680\n",
            "Epoch 11/25\n",
            "938/938 [==============================] - 43s 46ms/step - loss: 0.4106 - accuracy: 0.8588 - val_loss: 0.3949 - val_accuracy: 0.8667\n",
            "Epoch 12/25\n",
            "938/938 [==============================] - 43s 46ms/step - loss: 0.4074 - accuracy: 0.8595 - val_loss: 0.4012 - val_accuracy: 0.8596\n",
            "Epoch 13/25\n",
            "938/938 [==============================] - 43s 46ms/step - loss: 0.4036 - accuracy: 0.8610 - val_loss: 0.3950 - val_accuracy: 0.8706\n",
            "Epoch 14/25\n",
            "938/938 [==============================] - 43s 46ms/step - loss: 0.4051 - accuracy: 0.8605 - val_loss: 0.4068 - val_accuracy: 0.8572\n",
            "Epoch 15/25\n",
            "938/938 [==============================] - 43s 46ms/step - loss: 0.4047 - accuracy: 0.8592 - val_loss: 0.3868 - val_accuracy: 0.8613\n",
            "Epoch 16/25\n",
            "938/938 [==============================] - 43s 46ms/step - loss: 0.4050 - accuracy: 0.8604 - val_loss: 0.4584 - val_accuracy: 0.8469\n",
            "Epoch 17/25\n",
            "938/938 [==============================] - 43s 46ms/step - loss: 0.4066 - accuracy: 0.8608 - val_loss: 0.4191 - val_accuracy: 0.8592\n",
            "Epoch 18/25\n",
            "938/938 [==============================] - 43s 46ms/step - loss: 0.4077 - accuracy: 0.8607 - val_loss: 0.4211 - val_accuracy: 0.8518\n",
            "Epoch 19/25\n",
            "938/938 [==============================] - 43s 46ms/step - loss: 0.4058 - accuracy: 0.8605 - val_loss: 0.3965 - val_accuracy: 0.8617\n",
            "Epoch 20/25\n",
            "938/938 [==============================] - 43s 46ms/step - loss: 0.4099 - accuracy: 0.8580 - val_loss: 0.4192 - val_accuracy: 0.8680\n",
            "Epoch 21/25\n",
            "938/938 [==============================] - 43s 46ms/step - loss: 0.4093 - accuracy: 0.8585 - val_loss: 0.4035 - val_accuracy: 0.8663\n",
            "Epoch 22/25\n",
            "938/938 [==============================] - 43s 45ms/step - loss: 0.4170 - accuracy: 0.8557 - val_loss: 0.4010 - val_accuracy: 0.8648\n",
            "Epoch 23/25\n",
            "938/938 [==============================] - 43s 46ms/step - loss: 0.4199 - accuracy: 0.8561 - val_loss: 0.4003 - val_accuracy: 0.8565\n",
            "Epoch 24/25\n",
            "938/938 [==============================] - 43s 46ms/step - loss: 0.4195 - accuracy: 0.8558 - val_loss: 0.4372 - val_accuracy: 0.8601\n",
            "Epoch 25/25\n",
            "938/938 [==============================] - 43s 46ms/step - loss: 0.4270 - accuracy: 0.8534 - val_loss: 0.4382 - val_accuracy: 0.8705\n"
          ],
          "name": "stdout"
        },
        {
          "output_type": "execute_result",
          "data": {
            "text/plain": [
              "<tensorflow.python.keras.callbacks.History at 0x7ffad9aaaed0>"
            ]
          },
          "metadata": {
            "tags": []
          },
          "execution_count": 62
        }
      ]
    }
  ]
}